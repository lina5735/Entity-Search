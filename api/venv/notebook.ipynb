{
 "cells": [
  {
   "cell_type": "code",
   "execution_count": 1,
   "id": "d295e25e-d1dd-4ecd-a87a-f5da745fbaca",
   "metadata": {},
   "outputs": [
    {
     "name": "stderr",
     "output_type": "stream",
     "text": [
      "[nltk_data] Downloading package stopwords to /Users/lina/nltk_data...\n",
      "[nltk_data]   Package stopwords is already up-to-date!\n",
      "[nltk_data] Downloading package wordnet to /Users/lina/nltk_data...\n",
      "[nltk_data]   Package wordnet is already up-to-date!\n",
      "[nltk_data] Downloading package omw-1.4 to /Users/lina/nltk_data...\n",
      "[nltk_data]   Package omw-1.4 is already up-to-date!\n"
     ]
    }
   ],
   "source": [
    "import pandas as pd\n",
    "import time\n",
    "import sys\n",
    "from pathlib import Path\n",
    "from compute_similarity import weighted_search\n"
   ]
  },
  {
   "cell_type": "code",
   "execution_count": 2,
   "id": "7f8f79ae-eb40-4664-9330-a1bd6add2c5e",
   "metadata": {},
   "outputs": [
    {
     "data": {
      "text/html": [
       "<div>\n",
       "<style scoped>\n",
       "    .dataframe tbody tr th:only-of-type {\n",
       "        vertical-align: middle;\n",
       "    }\n",
       "\n",
       "    .dataframe tbody tr th {\n",
       "        vertical-align: top;\n",
       "    }\n",
       "\n",
       "    .dataframe thead th {\n",
       "        text-align: right;\n",
       "    }\n",
       "</style>\n",
       "<table border=\"1\" class=\"dataframe\">\n",
       "  <thead>\n",
       "    <tr style=\"text-align: right;\">\n",
       "      <th></th>\n",
       "      <th>people</th>\n",
       "      <th>location</th>\n",
       "      <th>organization</th>\n",
       "      <th>date</th>\n",
       "    </tr>\n",
       "  </thead>\n",
       "  <tbody>\n",
       "    <tr>\n",
       "      <th>15</th>\n",
       "      <td>Jack Richter</td>\n",
       "      <td></td>\n",
       "      <td>Los Angeles Police Department, LAPD</td>\n",
       "      <td>November 9, December 30</td>\n",
       "    </tr>\n",
       "    <tr>\n",
       "      <th>16</th>\n",
       "      <td>Marques Brownlee, Sonny Dickson, Terry Gou</td>\n",
       "      <td>Mesa, Arizona</td>\n",
       "      <td>GT Advanced Technologies, Wall Street Journal</td>\n",
       "      <td></td>\n",
       "    </tr>\n",
       "    <tr>\n",
       "      <th>17</th>\n",
       "      <td>Martin Crowe, Michael Clarke, Brendon McCullum</td>\n",
       "      <td>Australia, New Zealand</td>\n",
       "      <td>Cricinfo</td>\n",
       "      <td>March 29</td>\n",
       "    </tr>\n",
       "    <tr>\n",
       "      <th>18</th>\n",
       "      <td>Deborah Persaud, Hannah Gay, Katherine Luzuriaga</td>\n",
       "      <td>Mississippi, Boston, Long Beach, California</td>\n",
       "      <td>Johns Hopkins Children's Center, National Inst...</td>\n",
       "      <td>March 2013</td>\n",
       "    </tr>\n",
       "    <tr>\n",
       "      <th>19</th>\n",
       "      <td>Josef Helfenstein, Gretchen Sammons, Vandalize...</td>\n",
       "      <td>Houston, Landeros</td>\n",
       "      <td>University of Houston</td>\n",
       "      <td></td>\n",
       "    </tr>\n",
       "  </tbody>\n",
       "</table>\n",
       "</div>"
      ],
      "text/plain": [
       "                                               people  \\\n",
       "15                                       Jack Richter   \n",
       "16         Marques Brownlee, Sonny Dickson, Terry Gou   \n",
       "17     Martin Crowe, Michael Clarke, Brendon McCullum   \n",
       "18   Deborah Persaud, Hannah Gay, Katherine Luzuriaga   \n",
       "19  Josef Helfenstein, Gretchen Sammons, Vandalize...   \n",
       "\n",
       "                                       location  \\\n",
       "15                                                \n",
       "16                                Mesa, Arizona   \n",
       "17                       Australia, New Zealand   \n",
       "18  Mississippi, Boston, Long Beach, California   \n",
       "19                            Houston, Landeros   \n",
       "\n",
       "                                         organization                     date  \n",
       "15                Los Angeles Police Department, LAPD  November 9, December 30  \n",
       "16      GT Advanced Technologies, Wall Street Journal                           \n",
       "17                                           Cricinfo                 March 29  \n",
       "18  Johns Hopkins Children's Center, National Inst...               March 2013  \n",
       "19                              University of Houston                           "
      ]
     },
     "execution_count": 2,
     "metadata": {},
     "output_type": "execute_result"
    }
   ],
   "source": [
    "query_file = pd.read_csv(\"/Users/lina/Documents/ISE_540/project/data/Search Enginer Queries.csv\", keep_default_na=False).iloc[:,:4]\n",
    "query_file.tail()"
   ]
  },
  {
   "cell_type": "code",
   "execution_count": 3,
   "id": "7ee74c05-ed64-48c2-870d-cdd8c2b39b5d",
   "metadata": {},
   "outputs": [
    {
     "name": "stdout",
     "output_type": "stream",
     "text": [
      "[('58ebab0b4d8c30ed1083797506067bef0ac51fe3.story', 0.5706427130721774), ('a446d728089b3de26d8ccfb9ab5f4a1db99c3235.story', 0.4293572869278226), ('d36ea6ec8634a0dc766d4edea7b83ee7afa05e0c.story', 0.4293572869278226), ('ce696fe5e7a044e1de51f53821f153e2b686296a.story', 0.4293572869278226), ('b360fdd24dce0e1dd5c965c2d75934b6e7c436e0.story', 0.4293572869278226), ('8ce17d7586c259e7dfdc46287a8111c30d30abb9.story', 0.4293572869278226), ('bf1664e88890db022fe9ccd8f4c467659ca86d72.story', 0.4293572869278226), ('9242f82c6c69f223a6566f4785497c5e047f8c0f.story', 0.4293572869278226), ('2c5a549b71dd97c55950bc076758bbd66ae6b61b.story', 0.4293572869278226), ('ce8cf58260bbc82772d666ece733044297a1e680.story', 0.4293572869278226)]\n",
      "[('fd37841250c59d314c7d1282b88d795e59c1f030.story', 1.0), ('652f1fc7d767170a3900cd1219caca79c8b7b789.story', 0.5651108675245213), ('b5aa819a9beee1b60745aef2958bf571d96acfba.story', 0.5651108675245213), ('b77aab9b51f9aa093f35f8743b00b09294057d3d.story', 0.5651108675245213), ('d968061ab3abb52354f9454e462b712f89829ace.story', 0.5651108675245213), ('f26cb2fff0fd60f91c760d048058b83b03f78920.story', 0.5651108675245213), ('f21a957ef3ab62e73d9bcd9f27bb1fa8b47b4447.story', 0.5651108675245213), ('e0be1413433e38bb3f58951795d8bad44611ebfe.story', 0.5651108675245213), ('366f4f0e8cf2b5c14a14524efd98961850056bdd.story', 0.5651108675245213), ('91ff93e174c9aaa8db0c407b9f34d6fd9356d1be.story', 0.5651108675245213)]\n",
      "[('154a428c2c510dce1def52c1854063da1b5b0814.story', 1.0), ('c1e9fc2541bab92556c93aef1e86d30985df6080.story', 1.0), ('e15d4473d714d0b5037a0cdce73365a99d1e3b9c.story', 1.0), ('bba26e88b12d163048348411f97fa5d6423189ed.story', 1.0), ('b36cf34049b282af9dbd286bd8351adc1a08733d.story', 1.0), ('095666dac141e371b41b0478b0ea54c5b60c9916.story', 1.0), ('acae552d84f71dda2960aef94c00a97e47991d43.story', 1.0), ('55e74eff5336850fde60daf1c9d5acf40a51a748.story', 1.0), ('ff8026dcd34883956c9efe916006375a34f55b7c.story', 1.0), ('d4531dbb259b33dda8d5a9f1d5b04d2e23832c4c.story', 1.0)]\n",
      "[('44cf4f4a4a3e5431e5c7cac406f09ad732e8aa78.story', 1.0), ('0ec5afb0d491fa4d3ea6e35947bf4a4944fe435e.story', 1.0), ('285c47ab8696dc3a0281a72ab93dfedfaf229d09.story', 1.0), ('716bcdfbf6d1c34a3cc55e2eaa9a1bd2b824ef7b.story', 1.0), ('b65e76720703ad11e167f800d2e238c29be14337.story', 1.0), ('161924a2cc05a65cd69d0ac9fdf3a362fbd59736.story', 1.0), ('b9c02724e1c8a4466ad7ce991be7d66c57ab6c69.story', 1.0), ('5231c57b87dbf2fbd6106d6cc12ac61d2d65d935.story', 1.0), ('0b2acd0bbd956ef9c2abeecd0a190f0ee0be8aa3.story', 1.0), ('e59f608aec5592128a6bfb07f20c119ff8a077f6.story', 1.0)]\n",
      "[('ffb54985f1394c7402dafa196f247996a7cf9843.story', 0.6695819727339368), ('7e132e4efaa17f98c5dbd09c8af9a1518ef66ee3.story', 0.4293572869278226), ('ac66a823266f988da4237dfaa36627c35303bc2b.story', 0.4293572869278226), ('e01be85d737aef66422ce04cb8cdde4815bdc3fc.story', 0.4293572869278226), ('cf61ba7d17c9afba0eea0f89ea51742fe5e97873.story', 0.4293572869278226), ('dd6006b1c442d969417f7c88ed52efb6b78de631.story', 0.4293572869278226), ('57e7b8601c9bfe10a1967dcad40a6a7bd1ae8fba.story', 0.4293572869278226), ('d42220c43a34b9922a3e38c0f5cb9bf7fa092cf4.story', 0.4293572869278226), ('5485c4fb7f3535eaabdb47bd2f2e4f48adc17c5e.story', 0.4293572869278226), ('cae532d95447d199a2bcf9abd825d019d5a50bf1.story', 0.4293572869278226)]\n"
     ]
    }
   ],
   "source": [
    "\n",
    "result = []\n",
    "start = time.time()\n",
    "\n",
    "for i in range(len(query_file.tail())):\n",
    "    people, location, organization, date =  query_file.iloc[i]\n",
    "    top_10 = weighted_search(people, location, organization, date, k=100)\n",
    "    print(top_10)\n",
    "    result.append(top_10)\n",
    "    \n",
    "end = time.time()"
   ]
  },
  {
   "cell_type": "code",
   "execution_count": 5,
   "id": "e381c425-ef0f-4277-868d-c08e6bdee877",
   "metadata": {},
   "outputs": [
    {
     "name": "stdout",
     "output_type": "stream",
     "text": [
      "Elapsed time: 13.22 minutes\n"
     ]
    }
   ],
   "source": [
    "elapsed_time_seconds = (end - start)/60\n",
    "print(f\"Elapsed time: {elapsed_time_seconds:.2f} minutes\")"
   ]
  }
 ],
 "metadata": {
  "kernelspec": {
   "display_name": "Python 3",
   "language": "python",
   "name": "python3"
  },
  "language_info": {
   "codemirror_mode": {
    "name": "ipython",
    "version": 3
   },
   "file_extension": ".py",
   "mimetype": "text/x-python",
   "name": "python",
   "nbconvert_exporter": "python",
   "pygments_lexer": "ipython3",
   "version": "3.10.9"
  }
 },
 "nbformat": 4,
 "nbformat_minor": 5
}
