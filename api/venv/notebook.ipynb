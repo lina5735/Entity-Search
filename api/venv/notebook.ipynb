{
 "cells": [
  {
   "cell_type": "code",
   "execution_count": 1,
   "id": "d295e25e-d1dd-4ecd-a87a-f5da745fbaca",
   "metadata": {},
   "outputs": [
    {
     "name": "stderr",
     "output_type": "stream",
     "text": [
      "[nltk_data] Downloading package stopwords to /Users/lina/nltk_data...\n",
      "[nltk_data]   Package stopwords is already up-to-date!\n",
      "[nltk_data] Downloading package wordnet to /Users/lina/nltk_data...\n",
      "[nltk_data]   Package wordnet is already up-to-date!\n",
      "[nltk_data] Downloading package omw-1.4 to /Users/lina/nltk_data...\n",
      "[nltk_data]   Package omw-1.4 is already up-to-date!\n"
     ]
    }
   ],
   "source": [
    "import pandas as pd\n",
    "import time\n",
    "import sys\n",
    "from pathlib import Path\n",
    "from compute_similarity import weighted_search\n"
   ]
  },
  {
   "cell_type": "code",
   "execution_count": 2,
   "id": "7f8f79ae-eb40-4664-9330-a1bd6add2c5e",
   "metadata": {},
   "outputs": [
    {
     "data": {
      "text/html": [
       "<div>\n",
       "<style scoped>\n",
       "    .dataframe tbody tr th:only-of-type {\n",
       "        vertical-align: middle;\n",
       "    }\n",
       "\n",
       "    .dataframe tbody tr th {\n",
       "        vertical-align: top;\n",
       "    }\n",
       "\n",
       "    .dataframe thead th {\n",
       "        text-align: right;\n",
       "    }\n",
       "</style>\n",
       "<table border=\"1\" class=\"dataframe\">\n",
       "  <thead>\n",
       "    <tr style=\"text-align: right;\">\n",
       "      <th></th>\n",
       "      <th>people</th>\n",
       "      <th>location</th>\n",
       "      <th>organization</th>\n",
       "      <th>date</th>\n",
       "    </tr>\n",
       "  </thead>\n",
       "  <tbody>\n",
       "    <tr>\n",
       "      <th>15</th>\n",
       "      <td>Jack Richter</td>\n",
       "      <td></td>\n",
       "      <td>Los Angeles Police Department, LAPD</td>\n",
       "      <td>November 9, December 30</td>\n",
       "    </tr>\n",
       "    <tr>\n",
       "      <th>16</th>\n",
       "      <td>Marques Brownlee, Sonny Dickson, Terry Gou</td>\n",
       "      <td>Mesa, Arizona</td>\n",
       "      <td>GT Advanced Technologies, Wall Street Journal</td>\n",
       "      <td></td>\n",
       "    </tr>\n",
       "    <tr>\n",
       "      <th>17</th>\n",
       "      <td>Martin Crowe, Michael Clarke, Brendon McCullum</td>\n",
       "      <td>Australia, New Zealand</td>\n",
       "      <td>Cricinfo</td>\n",
       "      <td>March 29</td>\n",
       "    </tr>\n",
       "    <tr>\n",
       "      <th>18</th>\n",
       "      <td>Deborah Persaud, Hannah Gay, Katherine Luzuriaga</td>\n",
       "      <td>Mississippi, Boston, Long Beach, California</td>\n",
       "      <td>Johns Hopkins Children's Center, National Inst...</td>\n",
       "      <td>March 2013</td>\n",
       "    </tr>\n",
       "    <tr>\n",
       "      <th>19</th>\n",
       "      <td>Josef Helfenstein, Gretchen Sammons, Vandalize...</td>\n",
       "      <td>Houston, Landeros</td>\n",
       "      <td>University of Houston</td>\n",
       "      <td></td>\n",
       "    </tr>\n",
       "  </tbody>\n",
       "</table>\n",
       "</div>"
      ],
      "text/plain": [
       "                                               people  \\\n",
       "15                                       Jack Richter   \n",
       "16         Marques Brownlee, Sonny Dickson, Terry Gou   \n",
       "17     Martin Crowe, Michael Clarke, Brendon McCullum   \n",
       "18   Deborah Persaud, Hannah Gay, Katherine Luzuriaga   \n",
       "19  Josef Helfenstein, Gretchen Sammons, Vandalize...   \n",
       "\n",
       "                                       location  \\\n",
       "15                                                \n",
       "16                                Mesa, Arizona   \n",
       "17                       Australia, New Zealand   \n",
       "18  Mississippi, Boston, Long Beach, California   \n",
       "19                            Houston, Landeros   \n",
       "\n",
       "                                         organization                     date  \n",
       "15                Los Angeles Police Department, LAPD  November 9, December 30  \n",
       "16      GT Advanced Technologies, Wall Street Journal                           \n",
       "17                                           Cricinfo                 March 29  \n",
       "18  Johns Hopkins Children's Center, National Inst...               March 2013  \n",
       "19                              University of Houston                           "
      ]
     },
     "execution_count": 2,
     "metadata": {},
     "output_type": "execute_result"
    }
   ],
   "source": [
    "query_file = pd.read_csv(\"/Users/lina/Documents/ISE_540/project/data/Search Enginer Queries.csv\", keep_default_na=False).iloc[:,:4]\n",
    "query_file.tail()"
   ]
  },
  {
   "cell_type": "code",
   "execution_count": null,
   "id": "7ee74c05-ed64-48c2-870d-cdd8c2b39b5d",
   "metadata": {},
   "outputs": [
    {
     "name": "stdout",
     "output_type": "stream",
     "text": [
      "[('58ebab0b4d8c30ed1083797506067bef0ac51fe3.story', 0.5706427130721774), ('a446d728089b3de26d8ccfb9ab5f4a1db99c3235.story', 0.4293572869278226), ('d36ea6ec8634a0dc766d4edea7b83ee7afa05e0c.story', 0.4293572869278226), ('ce696fe5e7a044e1de51f53821f153e2b686296a.story', 0.4293572869278226), ('b360fdd24dce0e1dd5c965c2d75934b6e7c436e0.story', 0.4293572869278226), ('8ce17d7586c259e7dfdc46287a8111c30d30abb9.story', 0.4293572869278226), ('bf1664e88890db022fe9ccd8f4c467659ca86d72.story', 0.4293572869278226), ('9242f82c6c69f223a6566f4785497c5e047f8c0f.story', 0.4293572869278226), ('2c5a549b71dd97c55950bc076758bbd66ae6b61b.story', 0.4293572869278226), ('ce8cf58260bbc82772d666ece733044297a1e680.story', 0.4293572869278226)]\n"
     ]
    }
   ],
   "source": [
    "\n",
    "result = []\n",
    "start = time.time()\n",
    "\n",
    "for i in range(len(query_file.tail())):\n",
    "    people, location, organization, date =  query_file.iloc[i]\n",
    "    top_10 = weighted_search(people, location, organization, date, k=100)\n",
    "    print(top_10)\n",
    "    result.append(top_10)\n",
    "    \n",
    "end = time.time()"
   ]
  },
  {
   "cell_type": "code",
   "execution_count": 22,
   "id": "e381c425-ef0f-4277-868d-c08e6bdee877",
   "metadata": {},
   "outputs": [],
   "source": [
    "elapsed_time_seconds = (end_time - start_time)/60\n",
    "print(f\"Elapsed time: {elapsed_time_seconds:.2f} minutes\")"
   ]
  }
 ],
 "metadata": {
  "kernelspec": {
   "display_name": "Python 3",
   "language": "python",
   "name": "python3"
  },
  "language_info": {
   "codemirror_mode": {
    "name": "ipython",
    "version": 3
   },
   "file_extension": ".py",
   "mimetype": "text/x-python",
   "name": "python",
   "nbconvert_exporter": "python",
   "pygments_lexer": "ipython3",
   "version": "3.10.9"
  }
 },
 "nbformat": 4,
 "nbformat_minor": 5
}
