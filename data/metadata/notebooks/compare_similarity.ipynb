{
 "cells": [
  {
   "cell_type": "code",
   "execution_count": 1,
   "id": "ef0d9741-f4fe-4298-a5ef-a1f71e3c86dd",
   "metadata": {},
   "outputs": [],
   "source": [
    "import numpy as np\n",
    "import json\n",
    "import pandas as pd\n",
    "import heapq\n",
    "from collections import Counter\n",
    "from ast import literal_eval\n",
    "from file_operations import process_token\n",
    "\n",
    "from scipy.sparse import csr_matrix\n",
    "from scipy import stats\n",
    "from scipy import linalg, mat, dot"
   ]
  },
  {
   "cell_type": "code",
   "execution_count": 2,
   "id": "0752c4fb-2ba7-49a1-8c05-dac557fe8df2",
   "metadata": {},
   "outputs": [],
   "source": [
    "# Put vocabulary.json, idf.json, tfidf_result.csv under the same folder. \n",
    "# root = folder_path\n",
    "root = \"../data/tf_idf/people/\""
   ]
  },
  {
   "cell_type": "code",
   "execution_count": 3,
   "id": "9ae0da41-d7d4-4036-b861-0663813dd1c8",
   "metadata": {},
   "outputs": [],
   "source": [
    "with open(root+'vocabulary.json', 'r') as file:\n",
    "    vocabulary_file = json.load(file)\n",
    "with open(root+'idf.json', 'r') as file:\n",
    "    idf_file = json.load(file)"
   ]
  },
  {
   "cell_type": "code",
   "execution_count": 4,
   "id": "988a977e-6951-48e1-90f9-0f503f26fcb6",
   "metadata": {},
   "outputs": [],
   "source": [
    "def vectorize_query(query):\n",
    "    term_counts=Counter(query)\n",
    "    tokens = process_token(query)\n",
    "    TF_list=Counter(tokens)\n",
    "    non_zero_values = []\n",
    "    nonzero_position = []\n",
    "    i=0\n",
    "    for word in vocabulary_file:\n",
    "        if word in TF_list:\n",
    "            non_zero_values.append(idf_file[word] * TF_list[word])\n",
    "            nonzero_position.append(i)\n",
    "        i+=1\n",
    "            \n",
    "    return csr_matrix((non_zero_values, nonzero_position, [0, len(non_zero_values)]), shape=(1, len(vocabulary_file)))\n",
    "    "
   ]
  },
  {
   "cell_type": "code",
   "execution_count": 5,
   "id": "01320c5c-4e96-4dd1-9310-ff41412b68dd",
   "metadata": {},
   "outputs": [],
   "source": [
    "def convert_to_array(row):\n",
    "    nonzero_values = literal_eval(row[\"values\"])\n",
    "    nonzero_position = literal_eval(row[\"positions\"])\n",
    "    \n",
    "    vector = csr_matrix((nonzero_values, nonzero_position, [0, len(nonzero_values)]), shape=(1, len(vocabulary_file)))\n",
    "    \n",
    "    # return vector.toarray()[0]\n",
    "    return vector"
   ]
  },
  {
   "cell_type": "code",
   "execution_count": 13,
   "id": "7e0d034c-3723-47a5-850d-20cd99ed401d",
   "metadata": {},
   "outputs": [],
   "source": [
    "def top_k(heap, element, k=10):\n",
    "    # element format: (value, id)\n",
    "    if len(heap) < k:\n",
    "        heapq.heappush(heap, element)\n",
    "    else:\n",
    "        heapq.heappushpop(heap, element)\n",
    "        \n",
    "    return heap"
   ]
  },
  {
   "cell_type": "code",
   "execution_count": 14,
   "id": "8f4ac2e0-748f-48c0-a260-a85a9675438a",
   "metadata": {},
   "outputs": [],
   "source": [
    "def compute_similarity(query, tfidf, k=10):\n",
    "    q_vector = vectorize_query(query)\n",
    "    top_10 = []\n",
    "    \n",
    "    for i in range(len(tfidf)):\n",
    "        r_vector = convert_to_array(tfidf.loc[i])\n",
    "        similarity = r_vector.multiply(q_vector).sum()\n",
    "        top_10 = top_k(top_10, [similarity, tfidf.loc[i,\"id\"]], k)\n",
    "        \n",
    "    return sorted(top_10, reverse=True)"
   ]
  },
  {
   "cell_type": "markdown",
   "id": "d81910bb-35a7-4f1d-9cad-374c165bce7e",
   "metadata": {},
   "source": [
    "### Compute Similarity"
   ]
  },
  {
   "cell_type": "code",
   "execution_count": 9,
   "id": "dc65eb37-338f-4877-93c2-0bbff24cfa32",
   "metadata": {},
   "outputs": [],
   "source": [
    "td_idf_file_name = root + \"tfidf_result.csv\"\n",
    "tfidf = pd.read_csv(td_idf_file_name, header = None, names=[\"id\", \"values\", \"positions\"])"
   ]
  },
  {
   "cell_type": "code",
   "execution_count": 10,
   "id": "f5a79da9",
   "metadata": {},
   "outputs": [],
   "source": [
    "query = pd.read_csv(\"../data/Search Enginer Queries.csv\")\n",
    "queries = query.people"
   ]
  },
  {
   "cell_type": "code",
   "execution_count": 15,
   "id": "3345ac2b",
   "metadata": {},
   "outputs": [
    {
     "name": "stdout",
     "output_type": "stream",
     "text": [
      "running Obama\n",
      "running Kamal Prasad Kharel\n",
      "running Casey Kasem, Kerri Kasem, Julie\n",
      "running Kyle White, Barack Obama\n",
      "running Westergren, Dae Mellencamp\n",
      "running Omar Gonzalez, Rosemary Collyer\n",
      "running Jensen Farms\n",
      "running Yue You Meng\n",
      "running Johnathan Croom, Christopher McCandless\n",
      "running Cesc Fabregas,Jose Mourinho\n",
      "running Lucy Waterlow,Pippa Middleton\n",
      "running Susan Copich\n",
      "running Rachel Rickard Straus,Timothy Rogers,Rogers\n",
      "running Kieran Conway, Arthur Rafferty, Michael Maguire\n",
      "running Jack Richter\n",
      "running Marques Brownlee, Sonny Dickson, Terry Gou\n",
      "running Martin Crowe, Michael Clarke, Brendon McCullum\n",
      "running Deborah Persaud, Hannah Gay, Katherine Luzuriaga\n",
      "running Josef Helfenstein, Gretchen Sammons, Vandalized Picasso\n"
     ]
    },
    {
     "data": {
      "text/html": [
       "<div>\n",
       "<style scoped>\n",
       "    .dataframe tbody tr th:only-of-type {\n",
       "        vertical-align: middle;\n",
       "    }\n",
       "\n",
       "    .dataframe tbody tr th {\n",
       "        vertical-align: top;\n",
       "    }\n",
       "\n",
       "    .dataframe thead th {\n",
       "        text-align: right;\n",
       "    }\n",
       "</style>\n",
       "<table border=\"1\" class=\"dataframe\">\n",
       "  <thead>\n",
       "    <tr style=\"text-align: right;\">\n",
       "      <th></th>\n",
       "      <th>people</th>\n",
       "    </tr>\n",
       "  </thead>\n",
       "  <tbody>\n",
       "    <tr>\n",
       "      <th>0</th>\n",
       "      <td>[d75747a87ac6c574f7bb11080f38f1563ed14b46.stor...</td>\n",
       "    </tr>\n",
       "    <tr>\n",
       "      <th>1</th>\n",
       "      <td>[d004872ef76edb3a041bee088369d0be5e305a0a.stor...</td>\n",
       "    </tr>\n",
       "    <tr>\n",
       "      <th>2</th>\n",
       "      <td>[cc7b5faa3425998c8bf3fd3e90c9920d51284e91.stor...</td>\n",
       "    </tr>\n",
       "    <tr>\n",
       "      <th>3</th>\n",
       "      <td>[]</td>\n",
       "    </tr>\n",
       "    <tr>\n",
       "      <th>4</th>\n",
       "      <td>[5485c4fb7f3535eaabdb47bd2f2e4f48adc17c5e.stor...</td>\n",
       "    </tr>\n",
       "    <tr>\n",
       "      <th>5</th>\n",
       "      <td>[001097a19e2c96de11276b3cce11566ccfed0030.stor...</td>\n",
       "    </tr>\n",
       "    <tr>\n",
       "      <th>6</th>\n",
       "      <td>[c2fb1db3777316951d17b72bb1568e6884303b78.stor...</td>\n",
       "    </tr>\n",
       "    <tr>\n",
       "      <th>7</th>\n",
       "      <td>[bb626dbbcf60c14047b531e5ff313e04511f473f.stor...</td>\n",
       "    </tr>\n",
       "    <tr>\n",
       "      <th>8</th>\n",
       "      <td>[18c02ab4cd9859d026064118e31c5fa7cd759865.stor...</td>\n",
       "    </tr>\n",
       "    <tr>\n",
       "      <th>9</th>\n",
       "      <td>[b0efda38fb416aac70fb978f4f0a990dffc43c12.stor...</td>\n",
       "    </tr>\n",
       "    <tr>\n",
       "      <th>10</th>\n",
       "      <td>[7b1a2cc303b4f90d75f847c401c903054c9c47aa.stor...</td>\n",
       "    </tr>\n",
       "    <tr>\n",
       "      <th>11</th>\n",
       "      <td>[9d35b946330b9fd6df02c79d6d7cc77d26f1377c.stor...</td>\n",
       "    </tr>\n",
       "    <tr>\n",
       "      <th>12</th>\n",
       "      <td>[0a7bf47c29ff5daaf19c61fb203eb2a634034143.stor...</td>\n",
       "    </tr>\n",
       "    <tr>\n",
       "      <th>13</th>\n",
       "      <td>[1fba3f253495e6cb82a4f07b0e9908e0435397d9.stor...</td>\n",
       "    </tr>\n",
       "    <tr>\n",
       "      <th>14</th>\n",
       "      <td>[0a8bf9a2557d71e238686bb22bc4433e00c71f1e.stor...</td>\n",
       "    </tr>\n",
       "    <tr>\n",
       "      <th>15</th>\n",
       "      <td>[5a1d7090452804b2b02b987272b0c2bccd5a85ec.stor...</td>\n",
       "    </tr>\n",
       "    <tr>\n",
       "      <th>16</th>\n",
       "      <td>[c978abd14c7c78df42f8b4945951154ea257d469.stor...</td>\n",
       "    </tr>\n",
       "    <tr>\n",
       "      <th>17</th>\n",
       "      <td>[2e7953df69cc1639059900d86100c4e11037b29c.stor...</td>\n",
       "    </tr>\n",
       "    <tr>\n",
       "      <th>18</th>\n",
       "      <td>[d5ad284bc2467b083b0c72444f78dff48af6bec3.stor...</td>\n",
       "    </tr>\n",
       "    <tr>\n",
       "      <th>19</th>\n",
       "      <td>[1adf7077f505411ed64fa17cd8eebe3acc4f90ed.stor...</td>\n",
       "    </tr>\n",
       "  </tbody>\n",
       "</table>\n",
       "</div>"
      ],
      "text/plain": [
       "                                               people\n",
       "0   [d75747a87ac6c574f7bb11080f38f1563ed14b46.stor...\n",
       "1   [d004872ef76edb3a041bee088369d0be5e305a0a.stor...\n",
       "2   [cc7b5faa3425998c8bf3fd3e90c9920d51284e91.stor...\n",
       "3                                                  []\n",
       "4   [5485c4fb7f3535eaabdb47bd2f2e4f48adc17c5e.stor...\n",
       "5   [001097a19e2c96de11276b3cce11566ccfed0030.stor...\n",
       "6   [c2fb1db3777316951d17b72bb1568e6884303b78.stor...\n",
       "7   [bb626dbbcf60c14047b531e5ff313e04511f473f.stor...\n",
       "8   [18c02ab4cd9859d026064118e31c5fa7cd759865.stor...\n",
       "9   [b0efda38fb416aac70fb978f4f0a990dffc43c12.stor...\n",
       "10  [7b1a2cc303b4f90d75f847c401c903054c9c47aa.stor...\n",
       "11  [9d35b946330b9fd6df02c79d6d7cc77d26f1377c.stor...\n",
       "12  [0a7bf47c29ff5daaf19c61fb203eb2a634034143.stor...\n",
       "13  [1fba3f253495e6cb82a4f07b0e9908e0435397d9.stor...\n",
       "14  [0a8bf9a2557d71e238686bb22bc4433e00c71f1e.stor...\n",
       "15  [5a1d7090452804b2b02b987272b0c2bccd5a85ec.stor...\n",
       "16  [c978abd14c7c78df42f8b4945951154ea257d469.stor...\n",
       "17  [2e7953df69cc1639059900d86100c4e11037b29c.stor...\n",
       "18  [d5ad284bc2467b083b0c72444f78dff48af6bec3.stor...\n",
       "19  [1adf7077f505411ed64fa17cd8eebe3acc4f90ed.stor..."
      ]
     },
     "execution_count": 15,
     "metadata": {},
     "output_type": "execute_result"
    }
   ],
   "source": [
    "extracted_filename = []\n",
    "for query in queries:\n",
    "    if type(query) == float:\n",
    "        extracted_filename.append([])\n",
    "        continue\n",
    "    result=compute_similarity(query, tfidf,100)\n",
    "    print(\"running\", query)\n",
    "    result_list=[]\n",
    "    for i in result:\n",
    "        if 'story' in i[1]:\n",
    "            result_list.append(i[1])\n",
    "        else:\n",
    "            result_list.append(i[1]+'.story')\n",
    "    extracted_filename.append(result_list)\n",
    "    \n",
    "output = pd.DataFrame({\"people\":extracted_filename})\n",
    "output"
   ]
  },
  {
   "cell_type": "code",
   "execution_count": 24,
   "id": "d0ea9532",
   "metadata": {},
   "outputs": [
    {
     "data": {
      "text/plain": [
       "100"
      ]
     },
     "execution_count": 24,
     "metadata": {},
     "output_type": "execute_result"
    }
   ],
   "source": [
    "len(output.iloc[0,0])"
   ]
  },
  {
   "cell_type": "code",
   "execution_count": 16,
   "id": "8337161a",
   "metadata": {},
   "outputs": [],
   "source": [
    "output.to_csv('../data/top100_file_people.csv', index=False)"
   ]
  },
  {
   "cell_type": "markdown",
   "id": "e00b1643-59aa-4efe-bffe-c7189532e877",
   "metadata": {
    "tags": []
   },
   "source": [
    "### Calculate NDCG"
   ]
  },
  {
   "cell_type": "markdown",
   "id": "461c7079-5215-4cbf-a04f-fabeebab424e",
   "metadata": {},
   "source": [
    "Verify relevant file manully, write out relevant list, then calculate NDCG.\n",
    "\n",
    "Relevant_list format (list of boolean): [True, False, True, ...]"
   ]
  },
  {
   "cell_type": "code",
   "execution_count": 40,
   "id": "e4393005-7ff5-4e71-b24a-0061884d2575",
   "metadata": {},
   "outputs": [],
   "source": [
    "def cal_Z(n_extract=10): \n",
    "    cumulative = 0\n",
    "    for i in range(n_extract): \n",
    "        cumulative += 1/np.log2(2+i)\n",
    "    return 1/cumulative"
   ]
  },
  {
   "cell_type": "code",
   "execution_count": 42,
   "id": "71ae7c6a-4ed0-4685-b3bf-d4468f844db8",
   "metadata": {},
   "outputs": [],
   "source": [
    "def get_NDCG_score(relevant_list):\n",
    "    # Compute NDCG for a single query\n",
    "    \n",
    "    z = cal_Z(len(relevant_list))\n",
    "    cumulative = 0\n",
    "    for rank_i in range(len(relevant_list)):\n",
    "        if relevant_list[rank_i]:\n",
    "            cumulative += 1/np.log2(2+rank_i)\n",
    "            \n",
    "    return z*cumulative\n",
    "    "
   ]
  },
  {
   "cell_type": "code",
   "execution_count": 43,
   "id": "b3cc4b74-3492-4d20-849a-aa3a7af30b7d",
   "metadata": {},
   "outputs": [
    {
     "data": {
      "text/plain": [
       "0.7663491917568948"
      ]
     },
     "execution_count": 43,
     "metadata": {},
     "output_type": "execute_result"
    }
   ],
   "source": [
    "get_NDCG_score([True, False, True, False, True, True, True, True, True, True])"
   ]
  },
  {
   "cell_type": "code",
   "execution_count": 24,
   "id": "77e63078-50af-4e3a-8c63-cc8dfdf5a9e1",
   "metadata": {},
   "outputs": [],
   "source": [
    "# def read_tfidf(file_name):\n",
    "#     df = pd.read_csv(file_name, header = None, names=[\"id\", \"values\", \"positions\"])[:100]\n",
    "#     tarray = df.apply(convert_to_array, axis=1)\n",
    "#     tfidf = np.array(tarray.to_list())\n",
    "    \n",
    "#     return tfidf"
   ]
  }
 ],
 "metadata": {
  "kernelspec": {
   "display_name": "Python 3",
   "language": "python",
   "name": "python3"
  },
  "language_info": {
   "codemirror_mode": {
    "name": "ipython",
    "version": 3
   },
   "file_extension": ".py",
   "mimetype": "text/x-python",
   "name": "python",
   "nbconvert_exporter": "python",
   "pygments_lexer": "ipython3",
   "version": "3.10.9"
  }
 },
 "nbformat": 4,
 "nbformat_minor": 5
}
